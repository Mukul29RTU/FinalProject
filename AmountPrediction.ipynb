{
 "cells": [
  {
   "cell_type": "code",
   "execution_count": 1,
   "id": "ca0a45b0-b3d1-461c-ba82-e0caf42f06dc",
   "metadata": {},
   "outputs": [],
   "source": [
    "import pandas as pd\n",
    "import sklearn\n",
    "import numpy as np"
   ]
  },
  {
   "cell_type": "code",
   "execution_count": 2,
   "id": "427f115e-bf43-4bde-aeeb-ae50b3eb30cc",
   "metadata": {},
   "outputs": [],
   "source": [
    "rate = pd.read_csv(\"train.csv\")"
   ]
  },
  {
   "cell_type": "code",
   "execution_count": 3,
   "id": "447b80a1-1765-4117-ad54-d862e42e9333",
   "metadata": {},
   "outputs": [
    {
     "data": {
      "text/html": [
       "<div>\n",
       "<style scoped>\n",
       "    .dataframe tbody tr th:only-of-type {\n",
       "        vertical-align: middle;\n",
       "    }\n",
       "\n",
       "    .dataframe tbody tr th {\n",
       "        vertical-align: top;\n",
       "    }\n",
       "\n",
       "    .dataframe thead th {\n",
       "        text-align: right;\n",
       "    }\n",
       "</style>\n",
       "<table border=\"1\" class=\"dataframe\">\n",
       "  <thead>\n",
       "    <tr style=\"text-align: right;\">\n",
       "      <th></th>\n",
       "      <th>Income</th>\n",
       "      <th>LoanAmountRequest</th>\n",
       "      <th>CreditScore</th>\n",
       "      <th>NoofDefaults</th>\n",
       "      <th>PropertyPrice</th>\n",
       "      <th>CLA</th>\n",
       "      <th>PropertyType</th>\n",
       "      <th>PropertyAge</th>\n",
       "      <th>LSA</th>\n",
       "    </tr>\n",
       "  </thead>\n",
       "  <tbody>\n",
       "    <tr>\n",
       "      <th>0</th>\n",
       "      <td>1933.05</td>\n",
       "      <td>72809.58</td>\n",
       "      <td>809.44</td>\n",
       "      <td>0</td>\n",
       "      <td>119933.46</td>\n",
       "      <td>241.08</td>\n",
       "      <td>4</td>\n",
       "      <td>1933.05</td>\n",
       "      <td>54607.18</td>\n",
       "    </tr>\n",
       "    <tr>\n",
       "      <th>1</th>\n",
       "      <td>4952.91</td>\n",
       "      <td>46837.47</td>\n",
       "      <td>780.40</td>\n",
       "      <td>0</td>\n",
       "      <td>54791.00</td>\n",
       "      <td>495.81</td>\n",
       "      <td>2</td>\n",
       "      <td>4952.91</td>\n",
       "      <td>37469.98</td>\n",
       "    </tr>\n",
       "    <tr>\n",
       "      <th>2</th>\n",
       "      <td>988.19</td>\n",
       "      <td>45593.04</td>\n",
       "      <td>833.15</td>\n",
       "      <td>0</td>\n",
       "      <td>72440.58</td>\n",
       "      <td>171.95</td>\n",
       "      <td>2</td>\n",
       "      <td>988.19</td>\n",
       "      <td>36474.43</td>\n",
       "    </tr>\n",
       "    <tr>\n",
       "      <th>3</th>\n",
       "      <td>1933.05</td>\n",
       "      <td>80057.92</td>\n",
       "      <td>832.70</td>\n",
       "      <td>1</td>\n",
       "      <td>121441.51</td>\n",
       "      <td>298.54</td>\n",
       "      <td>2</td>\n",
       "      <td>2614.77</td>\n",
       "      <td>56040.54</td>\n",
       "    </tr>\n",
       "    <tr>\n",
       "      <th>4</th>\n",
       "      <td>2614.77</td>\n",
       "      <td>113858.89</td>\n",
       "      <td>745.55</td>\n",
       "      <td>1</td>\n",
       "      <td>208567.91</td>\n",
       "      <td>491.41</td>\n",
       "      <td>4</td>\n",
       "      <td>2614.77</td>\n",
       "      <td>74008.28</td>\n",
       "    </tr>\n",
       "  </tbody>\n",
       "</table>\n",
       "</div>"
      ],
      "text/plain": [
       "    Income  LoanAmountRequest  CreditScore  NoofDefaults  PropertyPrice  \\\n",
       "0  1933.05           72809.58       809.44             0      119933.46   \n",
       "1  4952.91           46837.47       780.40             0       54791.00   \n",
       "2   988.19           45593.04       833.15             0       72440.58   \n",
       "3  1933.05           80057.92       832.70             1      121441.51   \n",
       "4  2614.77          113858.89       745.55             1      208567.91   \n",
       "\n",
       "      CLA  PropertyType  PropertyAge       LSA  \n",
       "0  241.08             4      1933.05  54607.18  \n",
       "1  495.81             2      4952.91  37469.98  \n",
       "2  171.95             2       988.19  36474.43  \n",
       "3  298.54             2      2614.77  56040.54  \n",
       "4  491.41             4      2614.77  74008.28  "
      ]
     },
     "execution_count": 3,
     "metadata": {},
     "output_type": "execute_result"
    }
   ],
   "source": [
    "rate.head()"
   ]
  },
  {
   "cell_type": "code",
   "execution_count": 4,
   "id": "39bd461d-ba3a-431b-95f7-7b0c4cfc4654",
   "metadata": {},
   "outputs": [
    {
     "data": {
      "text/plain": [
       "(30000, 9)"
      ]
     },
     "execution_count": 4,
     "metadata": {},
     "output_type": "execute_result"
    }
   ],
   "source": [
    "rate.shape"
   ]
  },
  {
   "cell_type": "code",
   "execution_count": 5,
   "id": "bc6f6204-db11-46b7-9630-163ac50a827a",
   "metadata": {},
   "outputs": [
    {
     "name": "stdout",
     "output_type": "stream",
     "text": [
      "<class 'pandas.core.frame.DataFrame'>\n",
      "RangeIndex: 30000 entries, 0 to 29999\n",
      "Data columns (total 9 columns):\n",
      " #   Column             Non-Null Count  Dtype  \n",
      "---  ------             --------------  -----  \n",
      " 0   Income             30000 non-null  float64\n",
      " 1   LoanAmountRequest  30000 non-null  float64\n",
      " 2   CreditScore        30000 non-null  float64\n",
      " 3   NoofDefaults       30000 non-null  int64  \n",
      " 4   PropertyPrice      30000 non-null  float64\n",
      " 5   CLA                30000 non-null  float64\n",
      " 6   PropertyType       30000 non-null  int64  \n",
      " 7   PropertyAge        30000 non-null  float64\n",
      " 8   LSA                30000 non-null  float64\n",
      "dtypes: float64(7), int64(2)\n",
      "memory usage: 2.1 MB\n"
     ]
    }
   ],
   "source": [
    "rate.info()"
   ]
  },
  {
   "cell_type": "code",
   "execution_count": 6,
   "id": "fa426e94-b698-4d39-8012-9679dbd40a28",
   "metadata": {},
   "outputs": [
    {
     "data": {
      "text/html": [
       "<div>\n",
       "<style scoped>\n",
       "    .dataframe tbody tr th:only-of-type {\n",
       "        vertical-align: middle;\n",
       "    }\n",
       "\n",
       "    .dataframe tbody tr th {\n",
       "        vertical-align: top;\n",
       "    }\n",
       "\n",
       "    .dataframe thead th {\n",
       "        text-align: right;\n",
       "    }\n",
       "</style>\n",
       "<table border=\"1\" class=\"dataframe\">\n",
       "  <thead>\n",
       "    <tr style=\"text-align: right;\">\n",
       "      <th></th>\n",
       "      <th>Income</th>\n",
       "      <th>LoanAmountRequest</th>\n",
       "      <th>CreditScore</th>\n",
       "      <th>NoofDefaults</th>\n",
       "      <th>PropertyPrice</th>\n",
       "      <th>CLA</th>\n",
       "      <th>PropertyType</th>\n",
       "      <th>PropertyAge</th>\n",
       "      <th>LSA</th>\n",
       "    </tr>\n",
       "  </thead>\n",
       "  <tbody>\n",
       "    <tr>\n",
       "      <th>0</th>\n",
       "      <td>1933.05</td>\n",
       "      <td>72809.58</td>\n",
       "      <td>809.44</td>\n",
       "      <td>0</td>\n",
       "      <td>119933.46</td>\n",
       "      <td>241.08</td>\n",
       "      <td>4</td>\n",
       "      <td>1933.05</td>\n",
       "      <td>54607.18</td>\n",
       "    </tr>\n",
       "    <tr>\n",
       "      <th>1</th>\n",
       "      <td>4952.91</td>\n",
       "      <td>46837.47</td>\n",
       "      <td>780.40</td>\n",
       "      <td>0</td>\n",
       "      <td>54791.00</td>\n",
       "      <td>495.81</td>\n",
       "      <td>2</td>\n",
       "      <td>4952.91</td>\n",
       "      <td>37469.98</td>\n",
       "    </tr>\n",
       "    <tr>\n",
       "      <th>2</th>\n",
       "      <td>988.19</td>\n",
       "      <td>45593.04</td>\n",
       "      <td>833.15</td>\n",
       "      <td>0</td>\n",
       "      <td>72440.58</td>\n",
       "      <td>171.95</td>\n",
       "      <td>2</td>\n",
       "      <td>988.19</td>\n",
       "      <td>36474.43</td>\n",
       "    </tr>\n",
       "    <tr>\n",
       "      <th>3</th>\n",
       "      <td>1933.05</td>\n",
       "      <td>80057.92</td>\n",
       "      <td>832.70</td>\n",
       "      <td>1</td>\n",
       "      <td>121441.51</td>\n",
       "      <td>298.54</td>\n",
       "      <td>2</td>\n",
       "      <td>2614.77</td>\n",
       "      <td>56040.54</td>\n",
       "    </tr>\n",
       "    <tr>\n",
       "      <th>4</th>\n",
       "      <td>2614.77</td>\n",
       "      <td>113858.89</td>\n",
       "      <td>745.55</td>\n",
       "      <td>1</td>\n",
       "      <td>208567.91</td>\n",
       "      <td>491.41</td>\n",
       "      <td>4</td>\n",
       "      <td>2614.77</td>\n",
       "      <td>74008.28</td>\n",
       "    </tr>\n",
       "    <tr>\n",
       "      <th>...</th>\n",
       "      <td>...</td>\n",
       "      <td>...</td>\n",
       "      <td>...</td>\n",
       "      <td>...</td>\n",
       "      <td>...</td>\n",
       "      <td>...</td>\n",
       "      <td>...</td>\n",
       "      <td>...</td>\n",
       "      <td>...</td>\n",
       "    </tr>\n",
       "    <tr>\n",
       "      <th>29995</th>\n",
       "      <td>4969.41</td>\n",
       "      <td>76657.90</td>\n",
       "      <td>869.61</td>\n",
       "      <td>0</td>\n",
       "      <td>111096.56</td>\n",
       "      <td>722.34</td>\n",
       "      <td>4</td>\n",
       "      <td>4969.41</td>\n",
       "      <td>68992.11</td>\n",
       "    </tr>\n",
       "    <tr>\n",
       "      <th>29996</th>\n",
       "      <td>1606.88</td>\n",
       "      <td>66595.14</td>\n",
       "      <td>729.41</td>\n",
       "      <td>0</td>\n",
       "      <td>73453.94</td>\n",
       "      <td>253.04</td>\n",
       "      <td>3</td>\n",
       "      <td>1606.88</td>\n",
       "      <td>46616.60</td>\n",
       "    </tr>\n",
       "    <tr>\n",
       "      <th>29997</th>\n",
       "      <td>2250.19</td>\n",
       "      <td>81410.08</td>\n",
       "      <td>780.29</td>\n",
       "      <td>0</td>\n",
       "      <td>102108.02</td>\n",
       "      <td>583.11</td>\n",
       "      <td>1</td>\n",
       "      <td>2417.71</td>\n",
       "      <td>61057.56</td>\n",
       "    </tr>\n",
       "    <tr>\n",
       "      <th>29998</th>\n",
       "      <td>2417.71</td>\n",
       "      <td>142524.10</td>\n",
       "      <td>677.27</td>\n",
       "      <td>1</td>\n",
       "      <td>168194.47</td>\n",
       "      <td>378.29</td>\n",
       "      <td>4</td>\n",
       "      <td>2417.71</td>\n",
       "      <td>99766.87</td>\n",
       "    </tr>\n",
       "    <tr>\n",
       "      <th>29999</th>\n",
       "      <td>3068.24</td>\n",
       "      <td>156290.54</td>\n",
       "      <td>815.44</td>\n",
       "      <td>0</td>\n",
       "      <td>194512.60</td>\n",
       "      <td>693.94</td>\n",
       "      <td>3</td>\n",
       "      <td>3068.24</td>\n",
       "      <td>117217.90</td>\n",
       "    </tr>\n",
       "  </tbody>\n",
       "</table>\n",
       "<p>30000 rows × 9 columns</p>\n",
       "</div>"
      ],
      "text/plain": [
       "        Income  LoanAmountRequest  CreditScore  NoofDefaults  PropertyPrice  \\\n",
       "0      1933.05           72809.58       809.44             0      119933.46   \n",
       "1      4952.91           46837.47       780.40             0       54791.00   \n",
       "2       988.19           45593.04       833.15             0       72440.58   \n",
       "3      1933.05           80057.92       832.70             1      121441.51   \n",
       "4      2614.77          113858.89       745.55             1      208567.91   \n",
       "...        ...                ...          ...           ...            ...   \n",
       "29995  4969.41           76657.90       869.61             0      111096.56   \n",
       "29996  1606.88           66595.14       729.41             0       73453.94   \n",
       "29997  2250.19           81410.08       780.29             0      102108.02   \n",
       "29998  2417.71          142524.10       677.27             1      168194.47   \n",
       "29999  3068.24          156290.54       815.44             0      194512.60   \n",
       "\n",
       "          CLA  PropertyType  PropertyAge        LSA  \n",
       "0      241.08             4      1933.05   54607.18  \n",
       "1      495.81             2      4952.91   37469.98  \n",
       "2      171.95             2       988.19   36474.43  \n",
       "3      298.54             2      2614.77   56040.54  \n",
       "4      491.41             4      2614.77   74008.28  \n",
       "...       ...           ...          ...        ...  \n",
       "29995  722.34             4      4969.41   68992.11  \n",
       "29996  253.04             3      1606.88   46616.60  \n",
       "29997  583.11             1      2417.71   61057.56  \n",
       "29998  378.29             4      2417.71   99766.87  \n",
       "29999  693.94             3      3068.24  117217.90  \n",
       "\n",
       "[30000 rows x 9 columns]"
      ]
     },
     "execution_count": 6,
     "metadata": {},
     "output_type": "execute_result"
    }
   ],
   "source": [
    "rate.dropna()"
   ]
  },
  {
   "cell_type": "code",
   "execution_count": 7,
   "id": "cb47b1e2-bec0-439d-b4c4-be18dbc45ccb",
   "metadata": {},
   "outputs": [
    {
     "data": {
      "text/html": [
       "<div>\n",
       "<style scoped>\n",
       "    .dataframe tbody tr th:only-of-type {\n",
       "        vertical-align: middle;\n",
       "    }\n",
       "\n",
       "    .dataframe tbody tr th {\n",
       "        vertical-align: top;\n",
       "    }\n",
       "\n",
       "    .dataframe thead th {\n",
       "        text-align: right;\n",
       "    }\n",
       "</style>\n",
       "<table border=\"1\" class=\"dataframe\">\n",
       "  <thead>\n",
       "    <tr style=\"text-align: right;\">\n",
       "      <th></th>\n",
       "      <th>Income</th>\n",
       "      <th>LoanAmountRequest</th>\n",
       "      <th>CreditScore</th>\n",
       "      <th>NoofDefaults</th>\n",
       "      <th>PropertyPrice</th>\n",
       "      <th>CLA</th>\n",
       "      <th>PropertyType</th>\n",
       "      <th>PropertyAge</th>\n",
       "      <th>LSA</th>\n",
       "    </tr>\n",
       "  </thead>\n",
       "  <tbody>\n",
       "    <tr>\n",
       "      <th>0</th>\n",
       "      <td>1933.05</td>\n",
       "      <td>72809.58</td>\n",
       "      <td>809.44</td>\n",
       "      <td>0</td>\n",
       "      <td>119933.46</td>\n",
       "      <td>241.08</td>\n",
       "      <td>4</td>\n",
       "      <td>1933.05</td>\n",
       "      <td>54607.18</td>\n",
       "    </tr>\n",
       "    <tr>\n",
       "      <th>1</th>\n",
       "      <td>4952.91</td>\n",
       "      <td>46837.47</td>\n",
       "      <td>780.40</td>\n",
       "      <td>0</td>\n",
       "      <td>54791.00</td>\n",
       "      <td>495.81</td>\n",
       "      <td>2</td>\n",
       "      <td>4952.91</td>\n",
       "      <td>37469.98</td>\n",
       "    </tr>\n",
       "    <tr>\n",
       "      <th>2</th>\n",
       "      <td>988.19</td>\n",
       "      <td>45593.04</td>\n",
       "      <td>833.15</td>\n",
       "      <td>0</td>\n",
       "      <td>72440.58</td>\n",
       "      <td>171.95</td>\n",
       "      <td>2</td>\n",
       "      <td>988.19</td>\n",
       "      <td>36474.43</td>\n",
       "    </tr>\n",
       "    <tr>\n",
       "      <th>3</th>\n",
       "      <td>1933.05</td>\n",
       "      <td>80057.92</td>\n",
       "      <td>832.70</td>\n",
       "      <td>1</td>\n",
       "      <td>121441.51</td>\n",
       "      <td>298.54</td>\n",
       "      <td>2</td>\n",
       "      <td>2614.77</td>\n",
       "      <td>56040.54</td>\n",
       "    </tr>\n",
       "    <tr>\n",
       "      <th>4</th>\n",
       "      <td>2614.77</td>\n",
       "      <td>113858.89</td>\n",
       "      <td>745.55</td>\n",
       "      <td>1</td>\n",
       "      <td>208567.91</td>\n",
       "      <td>491.41</td>\n",
       "      <td>4</td>\n",
       "      <td>2614.77</td>\n",
       "      <td>74008.28</td>\n",
       "    </tr>\n",
       "    <tr>\n",
       "      <th>...</th>\n",
       "      <td>...</td>\n",
       "      <td>...</td>\n",
       "      <td>...</td>\n",
       "      <td>...</td>\n",
       "      <td>...</td>\n",
       "      <td>...</td>\n",
       "      <td>...</td>\n",
       "      <td>...</td>\n",
       "      <td>...</td>\n",
       "    </tr>\n",
       "    <tr>\n",
       "      <th>29995</th>\n",
       "      <td>4969.41</td>\n",
       "      <td>76657.90</td>\n",
       "      <td>869.61</td>\n",
       "      <td>0</td>\n",
       "      <td>111096.56</td>\n",
       "      <td>722.34</td>\n",
       "      <td>4</td>\n",
       "      <td>4969.41</td>\n",
       "      <td>68992.11</td>\n",
       "    </tr>\n",
       "    <tr>\n",
       "      <th>29996</th>\n",
       "      <td>1606.88</td>\n",
       "      <td>66595.14</td>\n",
       "      <td>729.41</td>\n",
       "      <td>0</td>\n",
       "      <td>73453.94</td>\n",
       "      <td>253.04</td>\n",
       "      <td>3</td>\n",
       "      <td>1606.88</td>\n",
       "      <td>46616.60</td>\n",
       "    </tr>\n",
       "    <tr>\n",
       "      <th>29997</th>\n",
       "      <td>2250.19</td>\n",
       "      <td>81410.08</td>\n",
       "      <td>780.29</td>\n",
       "      <td>0</td>\n",
       "      <td>102108.02</td>\n",
       "      <td>583.11</td>\n",
       "      <td>1</td>\n",
       "      <td>2417.71</td>\n",
       "      <td>61057.56</td>\n",
       "    </tr>\n",
       "    <tr>\n",
       "      <th>29998</th>\n",
       "      <td>2417.71</td>\n",
       "      <td>142524.10</td>\n",
       "      <td>677.27</td>\n",
       "      <td>1</td>\n",
       "      <td>168194.47</td>\n",
       "      <td>378.29</td>\n",
       "      <td>4</td>\n",
       "      <td>2417.71</td>\n",
       "      <td>99766.87</td>\n",
       "    </tr>\n",
       "    <tr>\n",
       "      <th>29999</th>\n",
       "      <td>3068.24</td>\n",
       "      <td>156290.54</td>\n",
       "      <td>815.44</td>\n",
       "      <td>0</td>\n",
       "      <td>194512.60</td>\n",
       "      <td>693.94</td>\n",
       "      <td>3</td>\n",
       "      <td>3068.24</td>\n",
       "      <td>117217.90</td>\n",
       "    </tr>\n",
       "  </tbody>\n",
       "</table>\n",
       "<p>30000 rows × 9 columns</p>\n",
       "</div>"
      ],
      "text/plain": [
       "        Income  LoanAmountRequest  CreditScore  NoofDefaults  PropertyPrice  \\\n",
       "0      1933.05           72809.58       809.44             0      119933.46   \n",
       "1      4952.91           46837.47       780.40             0       54791.00   \n",
       "2       988.19           45593.04       833.15             0       72440.58   \n",
       "3      1933.05           80057.92       832.70             1      121441.51   \n",
       "4      2614.77          113858.89       745.55             1      208567.91   \n",
       "...        ...                ...          ...           ...            ...   \n",
       "29995  4969.41           76657.90       869.61             0      111096.56   \n",
       "29996  1606.88           66595.14       729.41             0       73453.94   \n",
       "29997  2250.19           81410.08       780.29             0      102108.02   \n",
       "29998  2417.71          142524.10       677.27             1      168194.47   \n",
       "29999  3068.24          156290.54       815.44             0      194512.60   \n",
       "\n",
       "          CLA  PropertyType  PropertyAge        LSA  \n",
       "0      241.08             4      1933.05   54607.18  \n",
       "1      495.81             2      4952.91   37469.98  \n",
       "2      171.95             2       988.19   36474.43  \n",
       "3      298.54             2      2614.77   56040.54  \n",
       "4      491.41             4      2614.77   74008.28  \n",
       "...       ...           ...          ...        ...  \n",
       "29995  722.34             4      4969.41   68992.11  \n",
       "29996  253.04             3      1606.88   46616.60  \n",
       "29997  583.11             1      2417.71   61057.56  \n",
       "29998  378.29             4      2417.71   99766.87  \n",
       "29999  693.94             3      3068.24  117217.90  \n",
       "\n",
       "[30000 rows x 9 columns]"
      ]
     },
     "execution_count": 7,
     "metadata": {},
     "output_type": "execute_result"
    }
   ],
   "source": [
    "rate.fillna(0)"
   ]
  },
  {
   "cell_type": "code",
   "execution_count": 8,
   "id": "c8b4665c-bad9-4c69-8d4d-8f7b20119f02",
   "metadata": {},
   "outputs": [
    {
     "data": {
      "text/plain": [
       "Income               0\n",
       "LoanAmountRequest    0\n",
       "CreditScore          0\n",
       "NoofDefaults         0\n",
       "PropertyPrice        0\n",
       "CLA                  0\n",
       "PropertyType         0\n",
       "PropertyAge          0\n",
       "LSA                  0\n",
       "dtype: int64"
      ]
     },
     "execution_count": 8,
     "metadata": {},
     "output_type": "execute_result"
    }
   ],
   "source": [
    "rate.isnull().sum()"
   ]
  },
  {
   "cell_type": "code",
   "execution_count": 9,
   "id": "d8a62326-97e3-4dc9-885b-8a39b7562736",
   "metadata": {},
   "outputs": [
    {
     "data": {
      "text/plain": [
       "(30000, 9)"
      ]
     },
     "execution_count": 9,
     "metadata": {},
     "output_type": "execute_result"
    }
   ],
   "source": [
    "rate.shape\n"
   ]
  },
  {
   "cell_type": "code",
   "execution_count": 10,
   "id": "88e5d69d-9e75-47e8-acb1-287d2fcb5564",
   "metadata": {},
   "outputs": [],
   "source": [
    "X= rate.drop(columns='LSA')\n",
    "y= rate['LSA']"
   ]
  },
  {
   "cell_type": "code",
   "execution_count": 11,
   "id": "f80ff556-b3d7-4f04-9a42-307c56cc3d93",
   "metadata": {},
   "outputs": [],
   "source": [
    "from sklearn.model_selection import train_test_split\n",
    "X_train, X_test, y_train, y_test= train_test_split(X,y, test_size=0.2)"
   ]
  },
  {
   "cell_type": "code",
   "execution_count": 12,
   "id": "3982d154-581d-4ba5-a0e7-252015e7b8b8",
   "metadata": {},
   "outputs": [],
   "source": [
    "\n",
    "from sklearn.linear_model import LinearRegression\n",
    "##from sklearn.tree import DecisionTreeRegressor\n",
    "##from sklearn.ensemble import RandomForestRegressor\n",
    "from sklearn.metrics import r2_score\n",
    "from sklearn.preprocessing import OneHotEncoder\n",
    "from sklearn.compose import make_column_transformer\n",
    "from sklearn.pipeline import make_pipeline"
   ]
  },
  {
   "cell_type": "code",
   "execution_count": 13,
   "id": "9343bd21-53e0-4d4c-9580-bc490ece2eba",
   "metadata": {},
   "outputs": [
    {
     "data": {
      "text/html": [
       "<style>#sk-container-id-1 {color: black;}#sk-container-id-1 pre{padding: 0;}#sk-container-id-1 div.sk-toggleable {background-color: white;}#sk-container-id-1 label.sk-toggleable__label {cursor: pointer;display: block;width: 100%;margin-bottom: 0;padding: 0.3em;box-sizing: border-box;text-align: center;}#sk-container-id-1 label.sk-toggleable__label-arrow:before {content: \"▸\";float: left;margin-right: 0.25em;color: #696969;}#sk-container-id-1 label.sk-toggleable__label-arrow:hover:before {color: black;}#sk-container-id-1 div.sk-estimator:hover label.sk-toggleable__label-arrow:before {color: black;}#sk-container-id-1 div.sk-toggleable__content {max-height: 0;max-width: 0;overflow: hidden;text-align: left;background-color: #f0f8ff;}#sk-container-id-1 div.sk-toggleable__content pre {margin: 0.2em;color: black;border-radius: 0.25em;background-color: #f0f8ff;}#sk-container-id-1 input.sk-toggleable__control:checked~div.sk-toggleable__content {max-height: 200px;max-width: 100%;overflow: auto;}#sk-container-id-1 input.sk-toggleable__control:checked~label.sk-toggleable__label-arrow:before {content: \"▾\";}#sk-container-id-1 div.sk-estimator input.sk-toggleable__control:checked~label.sk-toggleable__label {background-color: #d4ebff;}#sk-container-id-1 div.sk-label input.sk-toggleable__control:checked~label.sk-toggleable__label {background-color: #d4ebff;}#sk-container-id-1 input.sk-hidden--visually {border: 0;clip: rect(1px 1px 1px 1px);clip: rect(1px, 1px, 1px, 1px);height: 1px;margin: -1px;overflow: hidden;padding: 0;position: absolute;width: 1px;}#sk-container-id-1 div.sk-estimator {font-family: monospace;background-color: #f0f8ff;border: 1px dotted black;border-radius: 0.25em;box-sizing: border-box;margin-bottom: 0.5em;}#sk-container-id-1 div.sk-estimator:hover {background-color: #d4ebff;}#sk-container-id-1 div.sk-parallel-item::after {content: \"\";width: 100%;border-bottom: 1px solid gray;flex-grow: 1;}#sk-container-id-1 div.sk-label:hover label.sk-toggleable__label {background-color: #d4ebff;}#sk-container-id-1 div.sk-serial::before {content: \"\";position: absolute;border-left: 1px solid gray;box-sizing: border-box;top: 0;bottom: 0;left: 50%;z-index: 0;}#sk-container-id-1 div.sk-serial {display: flex;flex-direction: column;align-items: center;background-color: white;padding-right: 0.2em;padding-left: 0.2em;position: relative;}#sk-container-id-1 div.sk-item {position: relative;z-index: 1;}#sk-container-id-1 div.sk-parallel {display: flex;align-items: stretch;justify-content: center;background-color: white;position: relative;}#sk-container-id-1 div.sk-item::before, #sk-container-id-1 div.sk-parallel-item::before {content: \"\";position: absolute;border-left: 1px solid gray;box-sizing: border-box;top: 0;bottom: 0;left: 50%;z-index: -1;}#sk-container-id-1 div.sk-parallel-item {display: flex;flex-direction: column;z-index: 1;position: relative;background-color: white;}#sk-container-id-1 div.sk-parallel-item:first-child::after {align-self: flex-end;width: 50%;}#sk-container-id-1 div.sk-parallel-item:last-child::after {align-self: flex-start;width: 50%;}#sk-container-id-1 div.sk-parallel-item:only-child::after {width: 0;}#sk-container-id-1 div.sk-dashed-wrapped {border: 1px dashed gray;margin: 0 0.4em 0.5em 0.4em;box-sizing: border-box;padding-bottom: 0.4em;background-color: white;}#sk-container-id-1 div.sk-label label {font-family: monospace;font-weight: bold;display: inline-block;line-height: 1.2em;}#sk-container-id-1 div.sk-label-container {text-align: center;}#sk-container-id-1 div.sk-container {/* jupyter's `normalize.less` sets `[hidden] { display: none; }` but bootstrap.min.css set `[hidden] { display: none !important; }` so we also need the `!important` here to be able to override the default hidden behavior on the sphinx rendered scikit-learn.org. See: https://github.com/scikit-learn/scikit-learn/issues/21755 */display: inline-block !important;position: relative;}#sk-container-id-1 div.sk-text-repr-fallback {display: none;}</style><div id=\"sk-container-id-1\" class=\"sk-top-container\"><div class=\"sk-text-repr-fallback\"><pre>OneHotEncoder()</pre><b>In a Jupyter environment, please rerun this cell to show the HTML representation or trust the notebook. <br />On GitHub, the HTML representation is unable to render, please try loading this page with nbviewer.org.</b></div><div class=\"sk-container\" hidden><div class=\"sk-item\"><div class=\"sk-estimator sk-toggleable\"><input class=\"sk-toggleable__control sk-hidden--visually\" id=\"sk-estimator-id-1\" type=\"checkbox\" checked><label for=\"sk-estimator-id-1\" class=\"sk-toggleable__label sk-toggleable__label-arrow\">OneHotEncoder</label><div class=\"sk-toggleable__content\"><pre>OneHotEncoder()</pre></div></div></div></div></div>"
      ],
      "text/plain": [
       "OneHotEncoder()"
      ]
     },
     "execution_count": 13,
     "metadata": {},
     "output_type": "execute_result"
    }
   ],
   "source": [
    "ohe = OneHotEncoder()\n",
    "ohe.fit(X[['Income',\t'LoanAmountRequest',\t'CreditScore',\t'NoofDefaults',\t'PropertyPrice',\t'CLA',\t'PropertyType',\t'PropertyAge'\n",
    "]])"
   ]
  },
  {
   "cell_type": "code",
   "execution_count": 14,
   "id": "e964b26f-4b95-4924-88e0-005e5e52134b",
   "metadata": {},
   "outputs": [
    {
     "data": {
      "text/plain": [
       "[array([3.77700000e+02, 3.78760000e+02, 3.78910000e+02, ...,\n",
       "        5.46537500e+04, 1.22966280e+05, 1.77746021e+06]),\n",
       " array([  6048.24,   6108.05,   6145.01, ..., 564812.49, 602384.15,\n",
       "        621497.82]),\n",
       " array([580.  , 580.85, 581.66, ..., 891.95, 892.18, 896.26]),\n",
       " array([0, 1], dtype=int64),\n",
       " array([-9.99000000e+02,  7.26595000e+03,  7.30987000e+03, ...,\n",
       "         9.87770870e+05,  1.02808264e+06,  1.07796673e+06]),\n",
       " array([-999.  ,   33.76,   34.04, ..., 3025.4 , 3419.66, 3840.88]),\n",
       " array([1, 2, 3, 4], dtype=int64),\n",
       " array([3.77700000e+02, 3.78760000e+02, 3.78910000e+02, ...,\n",
       "        5.46537500e+04, 1.22966280e+05, 1.77746021e+06])]"
      ]
     },
     "execution_count": 14,
     "metadata": {},
     "output_type": "execute_result"
    }
   ],
   "source": [
    "ohe.categories_"
   ]
  },
  {
   "cell_type": "code",
   "execution_count": 15,
   "id": "5f65d888-91a7-40c6-a7e1-8b6d5c9dd9a7",
   "metadata": {},
   "outputs": [],
   "source": [
    "column_trans = make_column_transformer((OneHotEncoder(categories=ohe.categories_),['Income',\t'LoanAmountRequest',\t'CreditScore',\t'NoofDefaults',\t'PropertyPrice',\t'CLA',\t'PropertyType',\t'PropertyAge'\t]),remainder= 'passthrough')"
   ]
  },
  {
   "cell_type": "code",
   "execution_count": 16,
   "id": "10a0ae83-6786-4631-b119-eee722883199",
   "metadata": {},
   "outputs": [],
   "source": [
    "lr=LinearRegression()"
   ]
  },
  {
   "cell_type": "code",
   "execution_count": 17,
   "id": "95ae2444-fe9c-493f-8997-3dc869f3e066",
   "metadata": {},
   "outputs": [],
   "source": [
    "pipe = make_pipeline(column_trans,lr)"
   ]
  },
  {
   "cell_type": "code",
   "execution_count": 18,
   "id": "bc22bbfe-8f63-4f77-a2d3-a453040bd3e6",
   "metadata": {},
   "outputs": [
    {
     "data": {
      "text/html": [
       "<style>#sk-container-id-2 {color: black;}#sk-container-id-2 pre{padding: 0;}#sk-container-id-2 div.sk-toggleable {background-color: white;}#sk-container-id-2 label.sk-toggleable__label {cursor: pointer;display: block;width: 100%;margin-bottom: 0;padding: 0.3em;box-sizing: border-box;text-align: center;}#sk-container-id-2 label.sk-toggleable__label-arrow:before {content: \"▸\";float: left;margin-right: 0.25em;color: #696969;}#sk-container-id-2 label.sk-toggleable__label-arrow:hover:before {color: black;}#sk-container-id-2 div.sk-estimator:hover label.sk-toggleable__label-arrow:before {color: black;}#sk-container-id-2 div.sk-toggleable__content {max-height: 0;max-width: 0;overflow: hidden;text-align: left;background-color: #f0f8ff;}#sk-container-id-2 div.sk-toggleable__content pre {margin: 0.2em;color: black;border-radius: 0.25em;background-color: #f0f8ff;}#sk-container-id-2 input.sk-toggleable__control:checked~div.sk-toggleable__content {max-height: 200px;max-width: 100%;overflow: auto;}#sk-container-id-2 input.sk-toggleable__control:checked~label.sk-toggleable__label-arrow:before {content: \"▾\";}#sk-container-id-2 div.sk-estimator input.sk-toggleable__control:checked~label.sk-toggleable__label {background-color: #d4ebff;}#sk-container-id-2 div.sk-label input.sk-toggleable__control:checked~label.sk-toggleable__label {background-color: #d4ebff;}#sk-container-id-2 input.sk-hidden--visually {border: 0;clip: rect(1px 1px 1px 1px);clip: rect(1px, 1px, 1px, 1px);height: 1px;margin: -1px;overflow: hidden;padding: 0;position: absolute;width: 1px;}#sk-container-id-2 div.sk-estimator {font-family: monospace;background-color: #f0f8ff;border: 1px dotted black;border-radius: 0.25em;box-sizing: border-box;margin-bottom: 0.5em;}#sk-container-id-2 div.sk-estimator:hover {background-color: #d4ebff;}#sk-container-id-2 div.sk-parallel-item::after {content: \"\";width: 100%;border-bottom: 1px solid gray;flex-grow: 1;}#sk-container-id-2 div.sk-label:hover label.sk-toggleable__label {background-color: #d4ebff;}#sk-container-id-2 div.sk-serial::before {content: \"\";position: absolute;border-left: 1px solid gray;box-sizing: border-box;top: 0;bottom: 0;left: 50%;z-index: 0;}#sk-container-id-2 div.sk-serial {display: flex;flex-direction: column;align-items: center;background-color: white;padding-right: 0.2em;padding-left: 0.2em;position: relative;}#sk-container-id-2 div.sk-item {position: relative;z-index: 1;}#sk-container-id-2 div.sk-parallel {display: flex;align-items: stretch;justify-content: center;background-color: white;position: relative;}#sk-container-id-2 div.sk-item::before, #sk-container-id-2 div.sk-parallel-item::before {content: \"\";position: absolute;border-left: 1px solid gray;box-sizing: border-box;top: 0;bottom: 0;left: 50%;z-index: -1;}#sk-container-id-2 div.sk-parallel-item {display: flex;flex-direction: column;z-index: 1;position: relative;background-color: white;}#sk-container-id-2 div.sk-parallel-item:first-child::after {align-self: flex-end;width: 50%;}#sk-container-id-2 div.sk-parallel-item:last-child::after {align-self: flex-start;width: 50%;}#sk-container-id-2 div.sk-parallel-item:only-child::after {width: 0;}#sk-container-id-2 div.sk-dashed-wrapped {border: 1px dashed gray;margin: 0 0.4em 0.5em 0.4em;box-sizing: border-box;padding-bottom: 0.4em;background-color: white;}#sk-container-id-2 div.sk-label label {font-family: monospace;font-weight: bold;display: inline-block;line-height: 1.2em;}#sk-container-id-2 div.sk-label-container {text-align: center;}#sk-container-id-2 div.sk-container {/* jupyter's `normalize.less` sets `[hidden] { display: none; }` but bootstrap.min.css set `[hidden] { display: none !important; }` so we also need the `!important` here to be able to override the default hidden behavior on the sphinx rendered scikit-learn.org. See: https://github.com/scikit-learn/scikit-learn/issues/21755 */display: inline-block !important;position: relative;}#sk-container-id-2 div.sk-text-repr-fallback {display: none;}</style><div id=\"sk-container-id-2\" class=\"sk-top-container\"><div class=\"sk-text-repr-fallback\"><pre>Pipeline(steps=[(&#x27;columntransformer&#x27;,\n",
       "                 ColumnTransformer(remainder=&#x27;passthrough&#x27;,\n",
       "                                   transformers=[(&#x27;onehotencoder&#x27;,\n",
       "                                                  OneHotEncoder(categories=[array([3.77700000e+02, 3.78760000e+02, 3.78910000e+02, ...,\n",
       "       5.46537500e+04, 1.22966280e+05, 1.77746021e+06]),\n",
       "                                                                            array([  6048.24,   6108.05,   6145.01, ..., 564812.49, 602384.15,\n",
       "       621497.82]),\n",
       "                                                                            array([580.  , 580.85, 581.66, ..., 891.95, 892.18,...\n",
       "        9.87770870e+05,  1.02808264e+06,  1.07796673e+06]),\n",
       "                                                                            array([-999.  ,   33.76,   34.04, ..., 3025.4 , 3419.66, 3840.88]),\n",
       "                                                                            array([1, 2, 3, 4], dtype=int64),\n",
       "                                                                            array([3.77700000e+02, 3.78760000e+02, 3.78910000e+02, ...,\n",
       "       5.46537500e+04, 1.22966280e+05, 1.77746021e+06])]),\n",
       "                                                  [&#x27;Income&#x27;,\n",
       "                                                   &#x27;LoanAmountRequest&#x27;,\n",
       "                                                   &#x27;CreditScore&#x27;,\n",
       "                                                   &#x27;NoofDefaults&#x27;,\n",
       "                                                   &#x27;PropertyPrice&#x27;, &#x27;CLA&#x27;,\n",
       "                                                   &#x27;PropertyType&#x27;,\n",
       "                                                   &#x27;PropertyAge&#x27;])])),\n",
       "                (&#x27;linearregression&#x27;, LinearRegression())])</pre><b>In a Jupyter environment, please rerun this cell to show the HTML representation or trust the notebook. <br />On GitHub, the HTML representation is unable to render, please try loading this page with nbviewer.org.</b></div><div class=\"sk-container\" hidden><div class=\"sk-item sk-dashed-wrapped\"><div class=\"sk-label-container\"><div class=\"sk-label sk-toggleable\"><input class=\"sk-toggleable__control sk-hidden--visually\" id=\"sk-estimator-id-2\" type=\"checkbox\" ><label for=\"sk-estimator-id-2\" class=\"sk-toggleable__label sk-toggleable__label-arrow\">Pipeline</label><div class=\"sk-toggleable__content\"><pre>Pipeline(steps=[(&#x27;columntransformer&#x27;,\n",
       "                 ColumnTransformer(remainder=&#x27;passthrough&#x27;,\n",
       "                                   transformers=[(&#x27;onehotencoder&#x27;,\n",
       "                                                  OneHotEncoder(categories=[array([3.77700000e+02, 3.78760000e+02, 3.78910000e+02, ...,\n",
       "       5.46537500e+04, 1.22966280e+05, 1.77746021e+06]),\n",
       "                                                                            array([  6048.24,   6108.05,   6145.01, ..., 564812.49, 602384.15,\n",
       "       621497.82]),\n",
       "                                                                            array([580.  , 580.85, 581.66, ..., 891.95, 892.18,...\n",
       "        9.87770870e+05,  1.02808264e+06,  1.07796673e+06]),\n",
       "                                                                            array([-999.  ,   33.76,   34.04, ..., 3025.4 , 3419.66, 3840.88]),\n",
       "                                                                            array([1, 2, 3, 4], dtype=int64),\n",
       "                                                                            array([3.77700000e+02, 3.78760000e+02, 3.78910000e+02, ...,\n",
       "       5.46537500e+04, 1.22966280e+05, 1.77746021e+06])]),\n",
       "                                                  [&#x27;Income&#x27;,\n",
       "                                                   &#x27;LoanAmountRequest&#x27;,\n",
       "                                                   &#x27;CreditScore&#x27;,\n",
       "                                                   &#x27;NoofDefaults&#x27;,\n",
       "                                                   &#x27;PropertyPrice&#x27;, &#x27;CLA&#x27;,\n",
       "                                                   &#x27;PropertyType&#x27;,\n",
       "                                                   &#x27;PropertyAge&#x27;])])),\n",
       "                (&#x27;linearregression&#x27;, LinearRegression())])</pre></div></div></div><div class=\"sk-serial\"><div class=\"sk-item sk-dashed-wrapped\"><div class=\"sk-label-container\"><div class=\"sk-label sk-toggleable\"><input class=\"sk-toggleable__control sk-hidden--visually\" id=\"sk-estimator-id-3\" type=\"checkbox\" ><label for=\"sk-estimator-id-3\" class=\"sk-toggleable__label sk-toggleable__label-arrow\">columntransformer: ColumnTransformer</label><div class=\"sk-toggleable__content\"><pre>ColumnTransformer(remainder=&#x27;passthrough&#x27;,\n",
       "                  transformers=[(&#x27;onehotencoder&#x27;,\n",
       "                                 OneHotEncoder(categories=[array([3.77700000e+02, 3.78760000e+02, 3.78910000e+02, ...,\n",
       "       5.46537500e+04, 1.22966280e+05, 1.77746021e+06]),\n",
       "                                                           array([  6048.24,   6108.05,   6145.01, ..., 564812.49, 602384.15,\n",
       "       621497.82]),\n",
       "                                                           array([580.  , 580.85, 581.66, ..., 891.95, 892.18, 896.26]),\n",
       "                                                           array([0, 1], dtype=int64),\n",
       "                                                           arr....,\n",
       "        9.87770870e+05,  1.02808264e+06,  1.07796673e+06]),\n",
       "                                                           array([-999.  ,   33.76,   34.04, ..., 3025.4 , 3419.66, 3840.88]),\n",
       "                                                           array([1, 2, 3, 4], dtype=int64),\n",
       "                                                           array([3.77700000e+02, 3.78760000e+02, 3.78910000e+02, ...,\n",
       "       5.46537500e+04, 1.22966280e+05, 1.77746021e+06])]),\n",
       "                                 [&#x27;Income&#x27;, &#x27;LoanAmountRequest&#x27;, &#x27;CreditScore&#x27;,\n",
       "                                  &#x27;NoofDefaults&#x27;, &#x27;PropertyPrice&#x27;, &#x27;CLA&#x27;,\n",
       "                                  &#x27;PropertyType&#x27;, &#x27;PropertyAge&#x27;])])</pre></div></div></div><div class=\"sk-parallel\"><div class=\"sk-parallel-item\"><div class=\"sk-item\"><div class=\"sk-label-container\"><div class=\"sk-label sk-toggleable\"><input class=\"sk-toggleable__control sk-hidden--visually\" id=\"sk-estimator-id-4\" type=\"checkbox\" ><label for=\"sk-estimator-id-4\" class=\"sk-toggleable__label sk-toggleable__label-arrow\">onehotencoder</label><div class=\"sk-toggleable__content\"><pre>[&#x27;Income&#x27;, &#x27;LoanAmountRequest&#x27;, &#x27;CreditScore&#x27;, &#x27;NoofDefaults&#x27;, &#x27;PropertyPrice&#x27;, &#x27;CLA&#x27;, &#x27;PropertyType&#x27;, &#x27;PropertyAge&#x27;]</pre></div></div></div><div class=\"sk-serial\"><div class=\"sk-item\"><div class=\"sk-estimator sk-toggleable\"><input class=\"sk-toggleable__control sk-hidden--visually\" id=\"sk-estimator-id-5\" type=\"checkbox\" ><label for=\"sk-estimator-id-5\" class=\"sk-toggleable__label sk-toggleable__label-arrow\">OneHotEncoder</label><div class=\"sk-toggleable__content\"><pre>OneHotEncoder(categories=[array([3.77700000e+02, 3.78760000e+02, 3.78910000e+02, ...,\n",
       "       5.46537500e+04, 1.22966280e+05, 1.77746021e+06]),\n",
       "                          array([  6048.24,   6108.05,   6145.01, ..., 564812.49, 602384.15,\n",
       "       621497.82]),\n",
       "                          array([580.  , 580.85, 581.66, ..., 891.95, 892.18, 896.26]),\n",
       "                          array([0, 1], dtype=int64),\n",
       "                          array([-9.99000000e+02,  7.26595000e+03,  7.30987000e+03, ...,\n",
       "        9.87770870e+05,  1.02808264e+06,  1.07796673e+06]),\n",
       "                          array([-999.  ,   33.76,   34.04, ..., 3025.4 , 3419.66, 3840.88]),\n",
       "                          array([1, 2, 3, 4], dtype=int64),\n",
       "                          array([3.77700000e+02, 3.78760000e+02, 3.78910000e+02, ...,\n",
       "       5.46537500e+04, 1.22966280e+05, 1.77746021e+06])])</pre></div></div></div></div></div></div><div class=\"sk-parallel-item\"><div class=\"sk-item\"><div class=\"sk-label-container\"><div class=\"sk-label sk-toggleable\"><input class=\"sk-toggleable__control sk-hidden--visually\" id=\"sk-estimator-id-6\" type=\"checkbox\" ><label for=\"sk-estimator-id-6\" class=\"sk-toggleable__label sk-toggleable__label-arrow\">remainder</label><div class=\"sk-toggleable__content\"><pre>[]</pre></div></div></div><div class=\"sk-serial\"><div class=\"sk-item\"><div class=\"sk-estimator sk-toggleable\"><input class=\"sk-toggleable__control sk-hidden--visually\" id=\"sk-estimator-id-7\" type=\"checkbox\" ><label for=\"sk-estimator-id-7\" class=\"sk-toggleable__label sk-toggleable__label-arrow\">passthrough</label><div class=\"sk-toggleable__content\"><pre>passthrough</pre></div></div></div></div></div></div></div></div><div class=\"sk-item\"><div class=\"sk-estimator sk-toggleable\"><input class=\"sk-toggleable__control sk-hidden--visually\" id=\"sk-estimator-id-8\" type=\"checkbox\" ><label for=\"sk-estimator-id-8\" class=\"sk-toggleable__label sk-toggleable__label-arrow\">LinearRegression</label><div class=\"sk-toggleable__content\"><pre>LinearRegression()</pre></div></div></div></div></div></div></div>"
      ],
      "text/plain": [
       "Pipeline(steps=[('columntransformer',\n",
       "                 ColumnTransformer(remainder='passthrough',\n",
       "                                   transformers=[('onehotencoder',\n",
       "                                                  OneHotEncoder(categories=[array([3.77700000e+02, 3.78760000e+02, 3.78910000e+02, ...,\n",
       "       5.46537500e+04, 1.22966280e+05, 1.77746021e+06]),\n",
       "                                                                            array([  6048.24,   6108.05,   6145.01, ..., 564812.49, 602384.15,\n",
       "       621497.82]),\n",
       "                                                                            array([580.  , 580.85, 581.66, ..., 891.95, 892.18,...\n",
       "        9.87770870e+05,  1.02808264e+06,  1.07796673e+06]),\n",
       "                                                                            array([-999.  ,   33.76,   34.04, ..., 3025.4 , 3419.66, 3840.88]),\n",
       "                                                                            array([1, 2, 3, 4], dtype=int64),\n",
       "                                                                            array([3.77700000e+02, 3.78760000e+02, 3.78910000e+02, ...,\n",
       "       5.46537500e+04, 1.22966280e+05, 1.77746021e+06])]),\n",
       "                                                  ['Income',\n",
       "                                                   'LoanAmountRequest',\n",
       "                                                   'CreditScore',\n",
       "                                                   'NoofDefaults',\n",
       "                                                   'PropertyPrice', 'CLA',\n",
       "                                                   'PropertyType',\n",
       "                                                   'PropertyAge'])])),\n",
       "                ('linearregression', LinearRegression())])"
      ]
     },
     "execution_count": 18,
     "metadata": {},
     "output_type": "execute_result"
    }
   ],
   "source": [
    "pipe.fit(X_train,y_train)"
   ]
  },
  {
   "cell_type": "code",
   "execution_count": 19,
   "id": "6f3b86f8-e744-48e7-92f1-0298684180de",
   "metadata": {},
   "outputs": [],
   "source": [
    "y_pred= pipe.predict(X_test)"
   ]
  },
  {
   "cell_type": "code",
   "execution_count": 20,
   "id": "aad16cd1-7575-43c5-aafd-e7ad1f369360",
   "metadata": {},
   "outputs": [
    {
     "data": {
      "text/plain": [
       "-0.0011857835098403324"
      ]
     },
     "execution_count": 20,
     "metadata": {},
     "output_type": "execute_result"
    }
   ],
   "source": [
    "r2_score(y_test,y_pred)"
   ]
  },
  {
   "cell_type": "code",
   "execution_count": 21,
   "id": "0f5485d8-339d-4d5d-8f05-617f6e886c52",
   "metadata": {},
   "outputs": [],
   "source": [
    "scores=[]\n",
    "for i in range(10):\n",
    "    X_train, X_test, y_train, y_test = train_test_split(X,y,test_size=0.2,random_state=i)\n",
    "    lr=LinearRegression()\n",
    "    pipe=make_pipeline(column_trans,lr)\n",
    "    pipe.fit(X_train,y_train)\n",
    "    y_pred=pipe.predict(X_test)\n",
    "    scores.append(r2_score(y_test,y_pred))"
   ]
  },
  {
   "cell_type": "code",
   "execution_count": 22,
   "id": "b7456ea5-36d5-474b-b504-5fbce2701826",
   "metadata": {},
   "outputs": [
    {
     "data": {
      "text/plain": [
       "5"
      ]
     },
     "execution_count": 22,
     "metadata": {},
     "output_type": "execute_result"
    }
   ],
   "source": [
    "np.argmax(scores)"
   ]
  },
  {
   "cell_type": "code",
   "execution_count": 23,
   "id": "146e12a6-40cb-4fb5-9dd8-cd650865cdbc",
   "metadata": {},
   "outputs": [
    {
     "data": {
      "text/plain": [
       "0.0055822646456547"
      ]
     },
     "execution_count": 23,
     "metadata": {},
     "output_type": "execute_result"
    }
   ],
   "source": [
    "scores[np.argmax(scores)]"
   ]
  },
  {
   "cell_type": "code",
   "execution_count": 24,
   "id": "32b1a612-a422-443c-a887-b14920cad6f2",
   "metadata": {},
   "outputs": [
    {
     "data": {
      "text/plain": [
       "0.0055822646456547"
      ]
     },
     "execution_count": 24,
     "metadata": {},
     "output_type": "execute_result"
    }
   ],
   "source": [
    "    X_train, X_test, y_train, y_test = train_test_split(X,y,test_size=0.2,random_state=np.argmax(scores))\n",
    "    lr=LinearRegression()\n",
    "    pipe=make_pipeline(column_trans,lr)\n",
    "    pipe.fit(X_train,y_train)\n",
    "    y_pred=pipe.predict(X_test)\n",
    "    r2_score(y_test,y_pred)"
   ]
  },
  {
   "cell_type": "code",
   "execution_count": 25,
   "id": "0b27a6de-f6e5-4820-a148-e151c9dd8c1a",
   "metadata": {},
   "outputs": [
    {
     "data": {
      "text/plain": [
       "0.0055822646456547"
      ]
     },
     "execution_count": 25,
     "metadata": {},
     "output_type": "execute_result"
    }
   ],
   "source": [
    "from sklearn.metrics import r2_score , mean_squared_error\n",
    "r2_score(y_test,y_pred)"
   ]
  },
  {
   "cell_type": "code",
   "execution_count": 26,
   "id": "effac87c-1fff-4a7c-afc8-9724ef6f983a",
   "metadata": {},
   "outputs": [
    {
     "data": {
      "text/plain": [
       "2393730121.9982853"
      ]
     },
     "execution_count": 26,
     "metadata": {},
     "output_type": "execute_result"
    }
   ],
   "source": [
    "mean_squared_error(y_test, y_pred)"
   ]
  },
  {
   "cell_type": "code",
   "execution_count": 27,
   "id": "47395ac1-281f-4389-b866-5d7e63e07b87",
   "metadata": {},
   "outputs": [
    {
     "data": {
      "text/plain": [
       "array([0.57878282, 0.5642596 , 0.52656957, 0.5919705 , 0.59625963,\n",
       "       0.5131004 , 0.57326935, 0.55779968, 0.56162184, 0.59985077])"
      ]
     },
     "execution_count": 27,
     "metadata": {},
     "output_type": "execute_result"
    }
   ],
   "source": [
    "from sklearn.model_selection import cross_val_score\n",
    "cross_val_score(lr, X_train, y_train, cv=10)"
   ]
  },
  {
   "cell_type": "code",
   "execution_count": 28,
   "id": "b57911c3-159a-4355-bcde-f190bec80177",
   "metadata": {},
   "outputs": [],
   "source": [
    "import pickle"
   ]
  },
  {
   "cell_type": "code",
   "execution_count": 29,
   "id": "61de3a2b-b9a7-4998-a607-23f00eea97c0",
   "metadata": {},
   "outputs": [],
   "source": [
    "pickle.dump(pipe,open('AmountPrediction.pkl','wb'))"
   ]
  },
  {
   "cell_type": "code",
   "execution_count": 30,
   "id": "521416ef-dfde-4069-9d89-3d2392339986",
   "metadata": {},
   "outputs": [
    {
     "data": {
      "text/plain": [
       "array([54605.4035331])"
      ]
     },
     "execution_count": 30,
     "metadata": {},
     "output_type": "execute_result"
    }
   ],
   "source": [
    "pipe.predict(pd.DataFrame([[1933.05,\t72809.58,\t809.44,\t0,\t119933.46,\t241.08,\t4,\t1933.05\n",
    "]], columns=\t['Income',\t'LoanAmountRequest',\t'CreditScore',\t'NoofDefaults',\t'PropertyPrice',\t'CLA',\t'PropertyType',\t'PropertyAge']))"
   ]
  }
 ],
 "metadata": {
  "kernelspec": {
   "display_name": "Python 3 (ipykernel)",
   "language": "python",
   "name": "python3"
  },
  "language_info": {
   "codemirror_mode": {
    "name": "ipython",
    "version": 3
   },
   "file_extension": ".py",
   "mimetype": "text/x-python",
   "name": "python",
   "nbconvert_exporter": "python",
   "pygments_lexer": "ipython3",
   "version": "3.11.5"
  }
 },
 "nbformat": 4,
 "nbformat_minor": 5
}
