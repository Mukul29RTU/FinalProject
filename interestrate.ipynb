{
 "cells": [
  {
   "cell_type": "code",
   "execution_count": 1,
   "id": "57a2ca36-bfd3-4c2e-ba01-c9710ab9092f",
   "metadata": {},
   "outputs": [],
   "source": [
    "import pandas as pd\n",
    "import sklearn\n",
    "import numpy as np"
   ]
  },
  {
   "cell_type": "code",
   "execution_count": 2,
   "id": "7ffda04e-c3d7-45d4-8cfa-3cc0ec15b370",
   "metadata": {},
   "outputs": [],
   "source": [
    "rate = pd.read_csv(\"data.csv\")"
   ]
  },
  {
   "cell_type": "code",
   "execution_count": 3,
   "id": "a6a86696-4905-4bc2-b435-350b5ecf54c8",
   "metadata": {},
   "outputs": [
    {
     "data": {
      "text/html": [
       "<div>\n",
       "<style scoped>\n",
       "    .dataframe tbody tr th:only-of-type {\n",
       "        vertical-align: middle;\n",
       "    }\n",
       "\n",
       "    .dataframe tbody tr th {\n",
       "        vertical-align: top;\n",
       "    }\n",
       "\n",
       "    .dataframe thead th {\n",
       "        text-align: right;\n",
       "    }\n",
       "</style>\n",
       "<table border=\"1\" class=\"dataframe\">\n",
       "  <thead>\n",
       "    <tr style=\"text-align: right;\">\n",
       "      <th></th>\n",
       "      <th>ReverseRepoRate</th>\n",
       "      <th>BankRate</th>\n",
       "      <th>BaseRate</th>\n",
       "      <th>SavingsDepositRate</th>\n",
       "      <th>Inflation</th>\n",
       "      <th>RepoRate</th>\n",
       "    </tr>\n",
       "  </thead>\n",
       "  <tbody>\n",
       "    <tr>\n",
       "      <th>0</th>\n",
       "      <td>4.9</td>\n",
       "      <td>5.4</td>\n",
       "      <td>8.45</td>\n",
       "      <td>3.25</td>\n",
       "      <td>6.62</td>\n",
       "      <td>5.15</td>\n",
       "    </tr>\n",
       "    <tr>\n",
       "      <th>1</th>\n",
       "      <td>4.9</td>\n",
       "      <td>5.4</td>\n",
       "      <td>8.45</td>\n",
       "      <td>3.25</td>\n",
       "      <td>6.62</td>\n",
       "      <td>5.15</td>\n",
       "    </tr>\n",
       "    <tr>\n",
       "      <th>2</th>\n",
       "      <td>4.9</td>\n",
       "      <td>5.4</td>\n",
       "      <td>8.45</td>\n",
       "      <td>3.25</td>\n",
       "      <td>3.73</td>\n",
       "      <td>5.15</td>\n",
       "    </tr>\n",
       "    <tr>\n",
       "      <th>3</th>\n",
       "      <td>4.9</td>\n",
       "      <td>5.4</td>\n",
       "      <td>8.45</td>\n",
       "      <td>3.25</td>\n",
       "      <td>3.73</td>\n",
       "      <td>5.15</td>\n",
       "    </tr>\n",
       "    <tr>\n",
       "      <th>4</th>\n",
       "      <td>4.9</td>\n",
       "      <td>5.4</td>\n",
       "      <td>8.45</td>\n",
       "      <td>3.25</td>\n",
       "      <td>3.73</td>\n",
       "      <td>5.15</td>\n",
       "    </tr>\n",
       "  </tbody>\n",
       "</table>\n",
       "</div>"
      ],
      "text/plain": [
       "   ReverseRepoRate  BankRate  BaseRate  SavingsDepositRate  Inflation  \\\n",
       "0              4.9       5.4      8.45                3.25       6.62   \n",
       "1              4.9       5.4      8.45                3.25       6.62   \n",
       "2              4.9       5.4      8.45                3.25       3.73   \n",
       "3              4.9       5.4      8.45                3.25       3.73   \n",
       "4              4.9       5.4      8.45                3.25       3.73   \n",
       "\n",
       "   RepoRate  \n",
       "0      5.15  \n",
       "1      5.15  \n",
       "2      5.15  \n",
       "3      5.15  \n",
       "4      5.15  "
      ]
     },
     "execution_count": 3,
     "metadata": {},
     "output_type": "execute_result"
    }
   ],
   "source": [
    "rate.head()"
   ]
  },
  {
   "cell_type": "code",
   "execution_count": 4,
   "id": "783ccc0a-4ab6-4cdc-83cc-62088f4395ae",
   "metadata": {},
   "outputs": [
    {
     "data": {
      "text/plain": [
       "(33048, 6)"
      ]
     },
     "execution_count": 4,
     "metadata": {},
     "output_type": "execute_result"
    }
   ],
   "source": [
    "rate.shape"
   ]
  },
  {
   "cell_type": "code",
   "execution_count": 5,
   "id": "e7ddcdeb-f4b6-4a17-a95e-ae116743768c",
   "metadata": {},
   "outputs": [
    {
     "name": "stdout",
     "output_type": "stream",
     "text": [
      "<class 'pandas.core.frame.DataFrame'>\n",
      "RangeIndex: 33048 entries, 0 to 33047\n",
      "Data columns (total 6 columns):\n",
      " #   Column              Non-Null Count  Dtype  \n",
      "---  ------              --------------  -----  \n",
      " 0   ReverseRepoRate     33048 non-null  float64\n",
      " 1   BankRate            33048 non-null  float64\n",
      " 2   BaseRate            33048 non-null  float64\n",
      " 3   SavingsDepositRate  33048 non-null  float64\n",
      " 4   Inflation           33048 non-null  float64\n",
      " 5   RepoRate            33048 non-null  float64\n",
      "dtypes: float64(6)\n",
      "memory usage: 1.5 MB\n"
     ]
    }
   ],
   "source": [
    "rate.info()"
   ]
  },
  {
   "cell_type": "markdown",
   "id": "8596cac2-0333-498f-a3fe-280078ae9a9e",
   "metadata": {},
   "source": [
    "## Linear Regression Model"
   ]
  },
  {
   "cell_type": "code",
   "execution_count": 6,
   "id": "73793f5c-65f2-4480-a4df-b07801f6ff24",
   "metadata": {},
   "outputs": [],
   "source": [
    "X= rate.drop(columns='RepoRate')\n",
    "y= rate['RepoRate']"
   ]
  },
  {
   "cell_type": "code",
   "execution_count": 7,
   "id": "fce5c409-5ceb-4286-945d-0976c168e936",
   "metadata": {},
   "outputs": [],
   "source": [
    "from sklearn.model_selection import train_test_split\n",
    "X_train, X_test, y_train, y_test= train_test_split(X,y, test_size=0.2)"
   ]
  },
  {
   "cell_type": "code",
   "execution_count": 8,
   "id": "f56d6d18-dcaa-4393-8628-c1c1b8cf6177",
   "metadata": {},
   "outputs": [],
   "source": [
    "from sklearn.linear_model import LinearRegression\n",
    "##from sklearn.tree import DecisionTreeRegressor\n",
    "from sklearn.metrics import r2_score\n",
    "from sklearn.preprocessing import OneHotEncoder\n",
    "from sklearn.compose import make_column_transformer\n",
    "from sklearn.pipeline import make_pipeline"
   ]
  },
  {
   "cell_type": "code",
   "execution_count": 9,
   "id": "525283a2-96ce-4414-9846-42827e30d6d8",
   "metadata": {},
   "outputs": [
    {
     "data": {
      "text/html": [
       "<style>#sk-container-id-1 {color: black;}#sk-container-id-1 pre{padding: 0;}#sk-container-id-1 div.sk-toggleable {background-color: white;}#sk-container-id-1 label.sk-toggleable__label {cursor: pointer;display: block;width: 100%;margin-bottom: 0;padding: 0.3em;box-sizing: border-box;text-align: center;}#sk-container-id-1 label.sk-toggleable__label-arrow:before {content: \"▸\";float: left;margin-right: 0.25em;color: #696969;}#sk-container-id-1 label.sk-toggleable__label-arrow:hover:before {color: black;}#sk-container-id-1 div.sk-estimator:hover label.sk-toggleable__label-arrow:before {color: black;}#sk-container-id-1 div.sk-toggleable__content {max-height: 0;max-width: 0;overflow: hidden;text-align: left;background-color: #f0f8ff;}#sk-container-id-1 div.sk-toggleable__content pre {margin: 0.2em;color: black;border-radius: 0.25em;background-color: #f0f8ff;}#sk-container-id-1 input.sk-toggleable__control:checked~div.sk-toggleable__content {max-height: 200px;max-width: 100%;overflow: auto;}#sk-container-id-1 input.sk-toggleable__control:checked~label.sk-toggleable__label-arrow:before {content: \"▾\";}#sk-container-id-1 div.sk-estimator input.sk-toggleable__control:checked~label.sk-toggleable__label {background-color: #d4ebff;}#sk-container-id-1 div.sk-label input.sk-toggleable__control:checked~label.sk-toggleable__label {background-color: #d4ebff;}#sk-container-id-1 input.sk-hidden--visually {border: 0;clip: rect(1px 1px 1px 1px);clip: rect(1px, 1px, 1px, 1px);height: 1px;margin: -1px;overflow: hidden;padding: 0;position: absolute;width: 1px;}#sk-container-id-1 div.sk-estimator {font-family: monospace;background-color: #f0f8ff;border: 1px dotted black;border-radius: 0.25em;box-sizing: border-box;margin-bottom: 0.5em;}#sk-container-id-1 div.sk-estimator:hover {background-color: #d4ebff;}#sk-container-id-1 div.sk-parallel-item::after {content: \"\";width: 100%;border-bottom: 1px solid gray;flex-grow: 1;}#sk-container-id-1 div.sk-label:hover label.sk-toggleable__label {background-color: #d4ebff;}#sk-container-id-1 div.sk-serial::before {content: \"\";position: absolute;border-left: 1px solid gray;box-sizing: border-box;top: 0;bottom: 0;left: 50%;z-index: 0;}#sk-container-id-1 div.sk-serial {display: flex;flex-direction: column;align-items: center;background-color: white;padding-right: 0.2em;padding-left: 0.2em;position: relative;}#sk-container-id-1 div.sk-item {position: relative;z-index: 1;}#sk-container-id-1 div.sk-parallel {display: flex;align-items: stretch;justify-content: center;background-color: white;position: relative;}#sk-container-id-1 div.sk-item::before, #sk-container-id-1 div.sk-parallel-item::before {content: \"\";position: absolute;border-left: 1px solid gray;box-sizing: border-box;top: 0;bottom: 0;left: 50%;z-index: -1;}#sk-container-id-1 div.sk-parallel-item {display: flex;flex-direction: column;z-index: 1;position: relative;background-color: white;}#sk-container-id-1 div.sk-parallel-item:first-child::after {align-self: flex-end;width: 50%;}#sk-container-id-1 div.sk-parallel-item:last-child::after {align-self: flex-start;width: 50%;}#sk-container-id-1 div.sk-parallel-item:only-child::after {width: 0;}#sk-container-id-1 div.sk-dashed-wrapped {border: 1px dashed gray;margin: 0 0.4em 0.5em 0.4em;box-sizing: border-box;padding-bottom: 0.4em;background-color: white;}#sk-container-id-1 div.sk-label label {font-family: monospace;font-weight: bold;display: inline-block;line-height: 1.2em;}#sk-container-id-1 div.sk-label-container {text-align: center;}#sk-container-id-1 div.sk-container {/* jupyter's `normalize.less` sets `[hidden] { display: none; }` but bootstrap.min.css set `[hidden] { display: none !important; }` so we also need the `!important` here to be able to override the default hidden behavior on the sphinx rendered scikit-learn.org. See: https://github.com/scikit-learn/scikit-learn/issues/21755 */display: inline-block !important;position: relative;}#sk-container-id-1 div.sk-text-repr-fallback {display: none;}</style><div id=\"sk-container-id-1\" class=\"sk-top-container\"><div class=\"sk-text-repr-fallback\"><pre>OneHotEncoder()</pre><b>In a Jupyter environment, please rerun this cell to show the HTML representation or trust the notebook. <br />On GitHub, the HTML representation is unable to render, please try loading this page with nbviewer.org.</b></div><div class=\"sk-container\" hidden><div class=\"sk-item\"><div class=\"sk-estimator sk-toggleable\"><input class=\"sk-toggleable__control sk-hidden--visually\" id=\"sk-estimator-id-1\" type=\"checkbox\" checked><label for=\"sk-estimator-id-1\" class=\"sk-toggleable__label sk-toggleable__label-arrow\">OneHotEncoder</label><div class=\"sk-toggleable__content\"><pre>OneHotEncoder()</pre></div></div></div></div></div>"
      ],
      "text/plain": [
       "OneHotEncoder()"
      ]
     },
     "execution_count": 9,
     "metadata": {},
     "output_type": "execute_result"
    }
   ],
   "source": [
    "ohe = OneHotEncoder()\n",
    "ohe.fit(X[['ReverseRepoRate','BankRate', 'BaseRate','SavingsDepositRate','Inflation']])"
   ]
  },
  {
   "cell_type": "code",
   "execution_count": 10,
   "id": "e4218d51-5b1f-4608-9b0d-fb4f367870ef",
   "metadata": {},
   "outputs": [
    {
     "data": {
      "text/plain": [
       "[array([4.9 , 5.15, 5.5 , 5.75, 6.  , 6.25, 6.5 , 6.75, 7.  , 7.25, 7.5 ]),\n",
       " array([ 5.4 ,  5.65,  6.  ,  6.25,  6.5 ,  6.75,  7.  ,  7.75,  8.25,\n",
       "         8.5 ,  8.75,  9.  ,  9.5 , 10.25]),\n",
       " array([ 8.25,  8.45,  8.5 ,  8.95,  9.  ,  9.1 ,  9.25,  9.3 ,  9.5 ,\n",
       "         9.6 ,  9.7 ,  9.75,  9.8 , 10.  ]),\n",
       " array([0.  , 3.25, 3.5 , 4.  ]),\n",
       " array([ 3.33,  3.73,  3.94,  4.91,  4.95,  6.62,  6.67,  8.91,  9.48,\n",
       "        10.02])]"
      ]
     },
     "execution_count": 10,
     "metadata": {},
     "output_type": "execute_result"
    }
   ],
   "source": [
    "ohe.categories_"
   ]
  },
  {
   "cell_type": "code",
   "execution_count": 11,
   "id": "2aa03e5b-8817-4fc7-bb73-5c243c10a3ed",
   "metadata": {},
   "outputs": [],
   "source": [
    "column_trans = make_column_transformer((OneHotEncoder(categories=ohe.categories_),['ReverseRepoRate','BankRate', 'BaseRate', 'SavingsDepositRate','Inflation']),remainder= 'passthrough')"
   ]
  },
  {
   "cell_type": "code",
   "execution_count": 12,
   "id": "d05968f4-27e1-4818-b06d-a65f16bddd80",
   "metadata": {},
   "outputs": [],
   "source": [
    "lr=LinearRegression()"
   ]
  },
  {
   "cell_type": "code",
   "execution_count": 13,
   "id": "77e6bc7a-954a-4acd-aca2-0ede7ba82b8c",
   "metadata": {},
   "outputs": [],
   "source": [
    "pipe = make_pipeline(column_trans,lr)"
   ]
  },
  {
   "cell_type": "code",
   "execution_count": 14,
   "id": "bb8a9f24-bb37-4b29-976a-8fe05bd6cb3c",
   "metadata": {},
   "outputs": [
    {
     "data": {
      "text/html": [
       "<style>#sk-container-id-2 {color: black;}#sk-container-id-2 pre{padding: 0;}#sk-container-id-2 div.sk-toggleable {background-color: white;}#sk-container-id-2 label.sk-toggleable__label {cursor: pointer;display: block;width: 100%;margin-bottom: 0;padding: 0.3em;box-sizing: border-box;text-align: center;}#sk-container-id-2 label.sk-toggleable__label-arrow:before {content: \"▸\";float: left;margin-right: 0.25em;color: #696969;}#sk-container-id-2 label.sk-toggleable__label-arrow:hover:before {color: black;}#sk-container-id-2 div.sk-estimator:hover label.sk-toggleable__label-arrow:before {color: black;}#sk-container-id-2 div.sk-toggleable__content {max-height: 0;max-width: 0;overflow: hidden;text-align: left;background-color: #f0f8ff;}#sk-container-id-2 div.sk-toggleable__content pre {margin: 0.2em;color: black;border-radius: 0.25em;background-color: #f0f8ff;}#sk-container-id-2 input.sk-toggleable__control:checked~div.sk-toggleable__content {max-height: 200px;max-width: 100%;overflow: auto;}#sk-container-id-2 input.sk-toggleable__control:checked~label.sk-toggleable__label-arrow:before {content: \"▾\";}#sk-container-id-2 div.sk-estimator input.sk-toggleable__control:checked~label.sk-toggleable__label {background-color: #d4ebff;}#sk-container-id-2 div.sk-label input.sk-toggleable__control:checked~label.sk-toggleable__label {background-color: #d4ebff;}#sk-container-id-2 input.sk-hidden--visually {border: 0;clip: rect(1px 1px 1px 1px);clip: rect(1px, 1px, 1px, 1px);height: 1px;margin: -1px;overflow: hidden;padding: 0;position: absolute;width: 1px;}#sk-container-id-2 div.sk-estimator {font-family: monospace;background-color: #f0f8ff;border: 1px dotted black;border-radius: 0.25em;box-sizing: border-box;margin-bottom: 0.5em;}#sk-container-id-2 div.sk-estimator:hover {background-color: #d4ebff;}#sk-container-id-2 div.sk-parallel-item::after {content: \"\";width: 100%;border-bottom: 1px solid gray;flex-grow: 1;}#sk-container-id-2 div.sk-label:hover label.sk-toggleable__label {background-color: #d4ebff;}#sk-container-id-2 div.sk-serial::before {content: \"\";position: absolute;border-left: 1px solid gray;box-sizing: border-box;top: 0;bottom: 0;left: 50%;z-index: 0;}#sk-container-id-2 div.sk-serial {display: flex;flex-direction: column;align-items: center;background-color: white;padding-right: 0.2em;padding-left: 0.2em;position: relative;}#sk-container-id-2 div.sk-item {position: relative;z-index: 1;}#sk-container-id-2 div.sk-parallel {display: flex;align-items: stretch;justify-content: center;background-color: white;position: relative;}#sk-container-id-2 div.sk-item::before, #sk-container-id-2 div.sk-parallel-item::before {content: \"\";position: absolute;border-left: 1px solid gray;box-sizing: border-box;top: 0;bottom: 0;left: 50%;z-index: -1;}#sk-container-id-2 div.sk-parallel-item {display: flex;flex-direction: column;z-index: 1;position: relative;background-color: white;}#sk-container-id-2 div.sk-parallel-item:first-child::after {align-self: flex-end;width: 50%;}#sk-container-id-2 div.sk-parallel-item:last-child::after {align-self: flex-start;width: 50%;}#sk-container-id-2 div.sk-parallel-item:only-child::after {width: 0;}#sk-container-id-2 div.sk-dashed-wrapped {border: 1px dashed gray;margin: 0 0.4em 0.5em 0.4em;box-sizing: border-box;padding-bottom: 0.4em;background-color: white;}#sk-container-id-2 div.sk-label label {font-family: monospace;font-weight: bold;display: inline-block;line-height: 1.2em;}#sk-container-id-2 div.sk-label-container {text-align: center;}#sk-container-id-2 div.sk-container {/* jupyter's `normalize.less` sets `[hidden] { display: none; }` but bootstrap.min.css set `[hidden] { display: none !important; }` so we also need the `!important` here to be able to override the default hidden behavior on the sphinx rendered scikit-learn.org. See: https://github.com/scikit-learn/scikit-learn/issues/21755 */display: inline-block !important;position: relative;}#sk-container-id-2 div.sk-text-repr-fallback {display: none;}</style><div id=\"sk-container-id-2\" class=\"sk-top-container\"><div class=\"sk-text-repr-fallback\"><pre>Pipeline(steps=[(&#x27;columntransformer&#x27;,\n",
       "                 ColumnTransformer(remainder=&#x27;passthrough&#x27;,\n",
       "                                   transformers=[(&#x27;onehotencoder&#x27;,\n",
       "                                                  OneHotEncoder(categories=[array([4.9 , 5.15, 5.5 , 5.75, 6.  , 6.25, 6.5 , 6.75, 7.  , 7.25, 7.5 ]),\n",
       "                                                                            array([ 5.4 ,  5.65,  6.  ,  6.25,  6.5 ,  6.75,  7.  ,  7.75,  8.25,\n",
       "        8.5 ,  8.75,  9.  ,  9.5 , 10.25]),\n",
       "                                                                            array([ 8.25,  8.45,  8.5 ,  8.95,  9.  ,  9.1 ,  9.25,  9.3 ,  9.5 ,\n",
       "        9.6 ,  9.7 ,  9.75,  9.8 , 10.  ]),\n",
       "                                                                            array([0.  , 3.25, 3.5 , 4.  ]),\n",
       "                                                                            array([ 3.33,  3.73,  3.94,  4.91,  4.95,  6.62,  6.67,  8.91,  9.48,\n",
       "       10.02])]),\n",
       "                                                  [&#x27;ReverseRepoRate&#x27;,\n",
       "                                                   &#x27;BankRate&#x27;, &#x27;BaseRate&#x27;,\n",
       "                                                   &#x27;SavingsDepositRate&#x27;,\n",
       "                                                   &#x27;Inflation&#x27;])])),\n",
       "                (&#x27;linearregression&#x27;, LinearRegression())])</pre><b>In a Jupyter environment, please rerun this cell to show the HTML representation or trust the notebook. <br />On GitHub, the HTML representation is unable to render, please try loading this page with nbviewer.org.</b></div><div class=\"sk-container\" hidden><div class=\"sk-item sk-dashed-wrapped\"><div class=\"sk-label-container\"><div class=\"sk-label sk-toggleable\"><input class=\"sk-toggleable__control sk-hidden--visually\" id=\"sk-estimator-id-2\" type=\"checkbox\" ><label for=\"sk-estimator-id-2\" class=\"sk-toggleable__label sk-toggleable__label-arrow\">Pipeline</label><div class=\"sk-toggleable__content\"><pre>Pipeline(steps=[(&#x27;columntransformer&#x27;,\n",
       "                 ColumnTransformer(remainder=&#x27;passthrough&#x27;,\n",
       "                                   transformers=[(&#x27;onehotencoder&#x27;,\n",
       "                                                  OneHotEncoder(categories=[array([4.9 , 5.15, 5.5 , 5.75, 6.  , 6.25, 6.5 , 6.75, 7.  , 7.25, 7.5 ]),\n",
       "                                                                            array([ 5.4 ,  5.65,  6.  ,  6.25,  6.5 ,  6.75,  7.  ,  7.75,  8.25,\n",
       "        8.5 ,  8.75,  9.  ,  9.5 , 10.25]),\n",
       "                                                                            array([ 8.25,  8.45,  8.5 ,  8.95,  9.  ,  9.1 ,  9.25,  9.3 ,  9.5 ,\n",
       "        9.6 ,  9.7 ,  9.75,  9.8 , 10.  ]),\n",
       "                                                                            array([0.  , 3.25, 3.5 , 4.  ]),\n",
       "                                                                            array([ 3.33,  3.73,  3.94,  4.91,  4.95,  6.62,  6.67,  8.91,  9.48,\n",
       "       10.02])]),\n",
       "                                                  [&#x27;ReverseRepoRate&#x27;,\n",
       "                                                   &#x27;BankRate&#x27;, &#x27;BaseRate&#x27;,\n",
       "                                                   &#x27;SavingsDepositRate&#x27;,\n",
       "                                                   &#x27;Inflation&#x27;])])),\n",
       "                (&#x27;linearregression&#x27;, LinearRegression())])</pre></div></div></div><div class=\"sk-serial\"><div class=\"sk-item sk-dashed-wrapped\"><div class=\"sk-label-container\"><div class=\"sk-label sk-toggleable\"><input class=\"sk-toggleable__control sk-hidden--visually\" id=\"sk-estimator-id-3\" type=\"checkbox\" ><label for=\"sk-estimator-id-3\" class=\"sk-toggleable__label sk-toggleable__label-arrow\">columntransformer: ColumnTransformer</label><div class=\"sk-toggleable__content\"><pre>ColumnTransformer(remainder=&#x27;passthrough&#x27;,\n",
       "                  transformers=[(&#x27;onehotencoder&#x27;,\n",
       "                                 OneHotEncoder(categories=[array([4.9 , 5.15, 5.5 , 5.75, 6.  , 6.25, 6.5 , 6.75, 7.  , 7.25, 7.5 ]),\n",
       "                                                           array([ 5.4 ,  5.65,  6.  ,  6.25,  6.5 ,  6.75,  7.  ,  7.75,  8.25,\n",
       "        8.5 ,  8.75,  9.  ,  9.5 , 10.25]),\n",
       "                                                           array([ 8.25,  8.45,  8.5 ,  8.95,  9.  ,  9.1 ,  9.25,  9.3 ,  9.5 ,\n",
       "        9.6 ,  9.7 ,  9.75,  9.8 , 10.  ]),\n",
       "                                                           array([0.  , 3.25, 3.5 , 4.  ]),\n",
       "                                                           array([ 3.33,  3.73,  3.94,  4.91,  4.95,  6.62,  6.67,  8.91,  9.48,\n",
       "       10.02])]),\n",
       "                                 [&#x27;ReverseRepoRate&#x27;, &#x27;BankRate&#x27;, &#x27;BaseRate&#x27;,\n",
       "                                  &#x27;SavingsDepositRate&#x27;, &#x27;Inflation&#x27;])])</pre></div></div></div><div class=\"sk-parallel\"><div class=\"sk-parallel-item\"><div class=\"sk-item\"><div class=\"sk-label-container\"><div class=\"sk-label sk-toggleable\"><input class=\"sk-toggleable__control sk-hidden--visually\" id=\"sk-estimator-id-4\" type=\"checkbox\" ><label for=\"sk-estimator-id-4\" class=\"sk-toggleable__label sk-toggleable__label-arrow\">onehotencoder</label><div class=\"sk-toggleable__content\"><pre>[&#x27;ReverseRepoRate&#x27;, &#x27;BankRate&#x27;, &#x27;BaseRate&#x27;, &#x27;SavingsDepositRate&#x27;, &#x27;Inflation&#x27;]</pre></div></div></div><div class=\"sk-serial\"><div class=\"sk-item\"><div class=\"sk-estimator sk-toggleable\"><input class=\"sk-toggleable__control sk-hidden--visually\" id=\"sk-estimator-id-5\" type=\"checkbox\" ><label for=\"sk-estimator-id-5\" class=\"sk-toggleable__label sk-toggleable__label-arrow\">OneHotEncoder</label><div class=\"sk-toggleable__content\"><pre>OneHotEncoder(categories=[array([4.9 , 5.15, 5.5 , 5.75, 6.  , 6.25, 6.5 , 6.75, 7.  , 7.25, 7.5 ]),\n",
       "                          array([ 5.4 ,  5.65,  6.  ,  6.25,  6.5 ,  6.75,  7.  ,  7.75,  8.25,\n",
       "        8.5 ,  8.75,  9.  ,  9.5 , 10.25]),\n",
       "                          array([ 8.25,  8.45,  8.5 ,  8.95,  9.  ,  9.1 ,  9.25,  9.3 ,  9.5 ,\n",
       "        9.6 ,  9.7 ,  9.75,  9.8 , 10.  ]),\n",
       "                          array([0.  , 3.25, 3.5 , 4.  ]),\n",
       "                          array([ 3.33,  3.73,  3.94,  4.91,  4.95,  6.62,  6.67,  8.91,  9.48,\n",
       "       10.02])])</pre></div></div></div></div></div></div><div class=\"sk-parallel-item\"><div class=\"sk-item\"><div class=\"sk-label-container\"><div class=\"sk-label sk-toggleable\"><input class=\"sk-toggleable__control sk-hidden--visually\" id=\"sk-estimator-id-6\" type=\"checkbox\" ><label for=\"sk-estimator-id-6\" class=\"sk-toggleable__label sk-toggleable__label-arrow\">remainder</label><div class=\"sk-toggleable__content\"><pre>[]</pre></div></div></div><div class=\"sk-serial\"><div class=\"sk-item\"><div class=\"sk-estimator sk-toggleable\"><input class=\"sk-toggleable__control sk-hidden--visually\" id=\"sk-estimator-id-7\" type=\"checkbox\" ><label for=\"sk-estimator-id-7\" class=\"sk-toggleable__label sk-toggleable__label-arrow\">passthrough</label><div class=\"sk-toggleable__content\"><pre>passthrough</pre></div></div></div></div></div></div></div></div><div class=\"sk-item\"><div class=\"sk-estimator sk-toggleable\"><input class=\"sk-toggleable__control sk-hidden--visually\" id=\"sk-estimator-id-8\" type=\"checkbox\" ><label for=\"sk-estimator-id-8\" class=\"sk-toggleable__label sk-toggleable__label-arrow\">LinearRegression</label><div class=\"sk-toggleable__content\"><pre>LinearRegression()</pre></div></div></div></div></div></div></div>"
      ],
      "text/plain": [
       "Pipeline(steps=[('columntransformer',\n",
       "                 ColumnTransformer(remainder='passthrough',\n",
       "                                   transformers=[('onehotencoder',\n",
       "                                                  OneHotEncoder(categories=[array([4.9 , 5.15, 5.5 , 5.75, 6.  , 6.25, 6.5 , 6.75, 7.  , 7.25, 7.5 ]),\n",
       "                                                                            array([ 5.4 ,  5.65,  6.  ,  6.25,  6.5 ,  6.75,  7.  ,  7.75,  8.25,\n",
       "        8.5 ,  8.75,  9.  ,  9.5 , 10.25]),\n",
       "                                                                            array([ 8.25,  8.45,  8.5 ,  8.95,  9.  ,  9.1 ,  9.25,  9.3 ,  9.5 ,\n",
       "        9.6 ,  9.7 ,  9.75,  9.8 , 10.  ]),\n",
       "                                                                            array([0.  , 3.25, 3.5 , 4.  ]),\n",
       "                                                                            array([ 3.33,  3.73,  3.94,  4.91,  4.95,  6.62,  6.67,  8.91,  9.48,\n",
       "       10.02])]),\n",
       "                                                  ['ReverseRepoRate',\n",
       "                                                   'BankRate', 'BaseRate',\n",
       "                                                   'SavingsDepositRate',\n",
       "                                                   'Inflation'])])),\n",
       "                ('linearregression', LinearRegression())])"
      ]
     },
     "execution_count": 14,
     "metadata": {},
     "output_type": "execute_result"
    }
   ],
   "source": [
    "pipe.fit(X_train,y_train)"
   ]
  },
  {
   "cell_type": "code",
   "execution_count": 15,
   "id": "6320ea78-b198-480f-b40a-2be4db005268",
   "metadata": {},
   "outputs": [],
   "source": [
    "y_pred= pipe.predict(X_test)"
   ]
  },
  {
   "cell_type": "code",
   "execution_count": 16,
   "id": "6127eb39-88b2-4592-aef2-c2911b571b14",
   "metadata": {},
   "outputs": [
    {
     "data": {
      "text/plain": [
       "0.9996472527782697"
      ]
     },
     "execution_count": 16,
     "metadata": {},
     "output_type": "execute_result"
    }
   ],
   "source": [
    "r2_score(y_test,y_pred)"
   ]
  },
  {
   "cell_type": "code",
   "execution_count": 17,
   "id": "26c08707-bea1-421c-867f-9c16ce656465",
   "metadata": {},
   "outputs": [],
   "source": [
    "scores=[]\n",
    "for i in range(10):\n",
    "    X_train, X_test, y_train, y_test = train_test_split(X,y,test_size=0.2,random_state=i)\n",
    "    lr=LinearRegression()\n",
    "    pipe=make_pipeline(column_trans,lr)\n",
    "    pipe.fit(X_train,y_train)\n",
    "    y_pred=pipe.predict(X_test)\n",
    "    scores.append(r2_score(y_test,y_pred))"
   ]
  },
  {
   "cell_type": "code",
   "execution_count": 18,
   "id": "895c72b1-06ed-4814-9683-f5065a950a95",
   "metadata": {},
   "outputs": [
    {
     "data": {
      "text/plain": [
       "7"
      ]
     },
     "execution_count": 18,
     "metadata": {},
     "output_type": "execute_result"
    }
   ],
   "source": [
    "np.argmax(scores)"
   ]
  },
  {
   "cell_type": "code",
   "execution_count": 19,
   "id": "c14a7727-6ef0-41b3-a369-bb88c727b2c6",
   "metadata": {},
   "outputs": [
    {
     "data": {
      "text/plain": [
       "0.9996769793845598"
      ]
     },
     "execution_count": 19,
     "metadata": {},
     "output_type": "execute_result"
    }
   ],
   "source": [
    "scores[np.argmax(scores)]"
   ]
  },
  {
   "cell_type": "code",
   "execution_count": 20,
   "id": "7481c9f1-9a92-44f6-916a-d7a4a654d99c",
   "metadata": {},
   "outputs": [
    {
     "data": {
      "text/plain": [
       "0.9996769793845598"
      ]
     },
     "execution_count": 20,
     "metadata": {},
     "output_type": "execute_result"
    }
   ],
   "source": [
    "    X_train, X_test, y_train, y_test = train_test_split(X,y,test_size=0.2,random_state=np.argmax(scores))\n",
    "    lr=LinearRegression()\n",
    "    pipe=make_pipeline(column_trans,lr)\n",
    "    pipe.fit(X_train,y_train)\n",
    "    y_pred=pipe.predict(X_test)\n",
    "    r2_score(y_test,y_pred)\n",
    "    "
   ]
  },
  {
   "cell_type": "code",
   "execution_count": 21,
   "id": "19b107bf-8e0b-453c-87fe-50d6f1aa5dae",
   "metadata": {},
   "outputs": [],
   "source": [
    "import pickle"
   ]
  },
  {
   "cell_type": "code",
   "execution_count": 22,
   "id": "23f15623-6aea-4794-9f13-7596afe84c28",
   "metadata": {},
   "outputs": [],
   "source": [
    "pickle.dump(pipe,open('LinearRegressionModel.pkl','wb'))"
   ]
  },
  {
   "cell_type": "code",
   "execution_count": 23,
   "id": "404cc698-3daa-4a20-8683-a1f40b886b73",
   "metadata": {},
   "outputs": [
    {
     "data": {
      "text/plain": [
       "array([5.14999468])"
      ]
     },
     "execution_count": 23,
     "metadata": {},
     "output_type": "execute_result"
    }
   ],
   "source": [
    "pipe.predict(pd.DataFrame([[4.9, 5.4, 8.45, 3.25,6.62]], columns=\t['ReverseRepoRate',\t'BankRate',\t'BaseRate',\t'SavingsDepositRate', 'Inflation']))"
   ]
  },
  {
   "cell_type": "code",
   "execution_count": null,
   "id": "9842ed22-26d1-4628-a0be-3995f2f663b0",
   "metadata": {},
   "outputs": [],
   "source": []
  },
  {
   "cell_type": "code",
   "execution_count": null,
   "id": "98504388-e8ff-437c-a23d-9a41f1283fde",
   "metadata": {},
   "outputs": [],
   "source": []
  },
  {
   "cell_type": "code",
   "execution_count": null,
   "id": "21370ae7-f8f1-4d46-bd0f-464c5efd26a1",
   "metadata": {},
   "outputs": [],
   "source": []
  }
 ],
 "metadata": {
  "kernelspec": {
   "display_name": "Python 3 (ipykernel)",
   "language": "python",
   "name": "python3"
  },
  "language_info": {
   "codemirror_mode": {
    "name": "ipython",
    "version": 3
   },
   "file_extension": ".py",
   "mimetype": "text/x-python",
   "name": "python",
   "nbconvert_exporter": "python",
   "pygments_lexer": "ipython3",
   "version": "3.11.5"
  }
 },
 "nbformat": 4,
 "nbformat_minor": 5
}
